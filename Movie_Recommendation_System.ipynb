{
  "cells": [
    {
      "cell_type": "markdown",
      "id": "52983033",
      "metadata": {
        "id": "52983033"
      },
      "source": [
        "# Movie Recommendation System"
      ]
    },
    {
      "cell_type": "markdown",
      "id": "2c42bc7d",
      "metadata": {
        "id": "2c42bc7d"
      },
      "source": [
        "## Content-based filtering\n",
        "Data: https://www.kaggle.com/datasets/tmdb/tmdb-movie-metadata"
      ]
    },
    {
      "cell_type": "code",
      "source": [
        "import pandas as pd\n",
        "import numpy as np\n",
        "import ast\n",
        "from sklearn.feature_extraction.text import TfidfVectorizer\n",
        "from sklearn.metrics.pairwise import cosine_similarity"
      ],
      "metadata": {
        "id": "lN7kThhDDrJl"
      },
      "id": "lN7kThhDDrJl",
      "execution_count": 1,
      "outputs": []
    },
    {
      "cell_type": "markdown",
      "source": [
        "Upload the data file"
      ],
      "metadata": {
        "id": "8SP1SVmQU4hz"
      },
      "id": "8SP1SVmQU4hz"
    },
    {
      "cell_type": "code",
      "source": [
        "# download the data from link above, you only need to run this cell and upload the file once, unless you reconnect or restart the notebook\n",
        "from google.colab import files\n",
        "uploaded = files.upload()"
      ],
      "metadata": {
        "colab": {
          "base_uri": "https://localhost:8080/",
          "height": 71
        },
        "id": "LT9xRvJEVWEL",
        "outputId": "71cdb0ab-47f9-40b6-8fb0-1fb044821f5d"
      },
      "id": "LT9xRvJEVWEL",
      "execution_count": 2,
      "outputs": [
        {
          "output_type": "display_data",
          "data": {
            "text/plain": [
              "<IPython.core.display.HTML object>"
            ],
            "text/html": [
              "\n",
              "     <input type=\"file\" id=\"files-829eeb4d-1650-4943-a964-7e286027f0bb\" name=\"files[]\" multiple disabled\n",
              "        style=\"border:none\" />\n",
              "     <output id=\"result-829eeb4d-1650-4943-a964-7e286027f0bb\">\n",
              "      Upload widget is only available when the cell has been executed in the\n",
              "      current browser session. Please rerun this cell to enable.\n",
              "      </output>\n",
              "      <script>// Copyright 2017 Google LLC\n",
              "//\n",
              "// Licensed under the Apache License, Version 2.0 (the \"License\");\n",
              "// you may not use this file except in compliance with the License.\n",
              "// You may obtain a copy of the License at\n",
              "//\n",
              "//      http://www.apache.org/licenses/LICENSE-2.0\n",
              "//\n",
              "// Unless required by applicable law or agreed to in writing, software\n",
              "// distributed under the License is distributed on an \"AS IS\" BASIS,\n",
              "// WITHOUT WARRANTIES OR CONDITIONS OF ANY KIND, either express or implied.\n",
              "// See the License for the specific language governing permissions and\n",
              "// limitations under the License.\n",
              "\n",
              "/**\n",
              " * @fileoverview Helpers for google.colab Python module.\n",
              " */\n",
              "(function(scope) {\n",
              "function span(text, styleAttributes = {}) {\n",
              "  const element = document.createElement('span');\n",
              "  element.textContent = text;\n",
              "  for (const key of Object.keys(styleAttributes)) {\n",
              "    element.style[key] = styleAttributes[key];\n",
              "  }\n",
              "  return element;\n",
              "}\n",
              "\n",
              "// Max number of bytes which will be uploaded at a time.\n",
              "const MAX_PAYLOAD_SIZE = 100 * 1024;\n",
              "\n",
              "function _uploadFiles(inputId, outputId) {\n",
              "  const steps = uploadFilesStep(inputId, outputId);\n",
              "  const outputElement = document.getElementById(outputId);\n",
              "  // Cache steps on the outputElement to make it available for the next call\n",
              "  // to uploadFilesContinue from Python.\n",
              "  outputElement.steps = steps;\n",
              "\n",
              "  return _uploadFilesContinue(outputId);\n",
              "}\n",
              "\n",
              "// This is roughly an async generator (not supported in the browser yet),\n",
              "// where there are multiple asynchronous steps and the Python side is going\n",
              "// to poll for completion of each step.\n",
              "// This uses a Promise to block the python side on completion of each step,\n",
              "// then passes the result of the previous step as the input to the next step.\n",
              "function _uploadFilesContinue(outputId) {\n",
              "  const outputElement = document.getElementById(outputId);\n",
              "  const steps = outputElement.steps;\n",
              "\n",
              "  const next = steps.next(outputElement.lastPromiseValue);\n",
              "  return Promise.resolve(next.value.promise).then((value) => {\n",
              "    // Cache the last promise value to make it available to the next\n",
              "    // step of the generator.\n",
              "    outputElement.lastPromiseValue = value;\n",
              "    return next.value.response;\n",
              "  });\n",
              "}\n",
              "\n",
              "/**\n",
              " * Generator function which is called between each async step of the upload\n",
              " * process.\n",
              " * @param {string} inputId Element ID of the input file picker element.\n",
              " * @param {string} outputId Element ID of the output display.\n",
              " * @return {!Iterable<!Object>} Iterable of next steps.\n",
              " */\n",
              "function* uploadFilesStep(inputId, outputId) {\n",
              "  const inputElement = document.getElementById(inputId);\n",
              "  inputElement.disabled = false;\n",
              "\n",
              "  const outputElement = document.getElementById(outputId);\n",
              "  outputElement.innerHTML = '';\n",
              "\n",
              "  const pickedPromise = new Promise((resolve) => {\n",
              "    inputElement.addEventListener('change', (e) => {\n",
              "      resolve(e.target.files);\n",
              "    });\n",
              "  });\n",
              "\n",
              "  const cancel = document.createElement('button');\n",
              "  inputElement.parentElement.appendChild(cancel);\n",
              "  cancel.textContent = 'Cancel upload';\n",
              "  const cancelPromise = new Promise((resolve) => {\n",
              "    cancel.onclick = () => {\n",
              "      resolve(null);\n",
              "    };\n",
              "  });\n",
              "\n",
              "  // Wait for the user to pick the files.\n",
              "  const files = yield {\n",
              "    promise: Promise.race([pickedPromise, cancelPromise]),\n",
              "    response: {\n",
              "      action: 'starting',\n",
              "    }\n",
              "  };\n",
              "\n",
              "  cancel.remove();\n",
              "\n",
              "  // Disable the input element since further picks are not allowed.\n",
              "  inputElement.disabled = true;\n",
              "\n",
              "  if (!files) {\n",
              "    return {\n",
              "      response: {\n",
              "        action: 'complete',\n",
              "      }\n",
              "    };\n",
              "  }\n",
              "\n",
              "  for (const file of files) {\n",
              "    const li = document.createElement('li');\n",
              "    li.append(span(file.name, {fontWeight: 'bold'}));\n",
              "    li.append(span(\n",
              "        `(${file.type || 'n/a'}) - ${file.size} bytes, ` +\n",
              "        `last modified: ${\n",
              "            file.lastModifiedDate ? file.lastModifiedDate.toLocaleDateString() :\n",
              "                                    'n/a'} - `));\n",
              "    const percent = span('0% done');\n",
              "    li.appendChild(percent);\n",
              "\n",
              "    outputElement.appendChild(li);\n",
              "\n",
              "    const fileDataPromise = new Promise((resolve) => {\n",
              "      const reader = new FileReader();\n",
              "      reader.onload = (e) => {\n",
              "        resolve(e.target.result);\n",
              "      };\n",
              "      reader.readAsArrayBuffer(file);\n",
              "    });\n",
              "    // Wait for the data to be ready.\n",
              "    let fileData = yield {\n",
              "      promise: fileDataPromise,\n",
              "      response: {\n",
              "        action: 'continue',\n",
              "      }\n",
              "    };\n",
              "\n",
              "    // Use a chunked sending to avoid message size limits. See b/62115660.\n",
              "    let position = 0;\n",
              "    do {\n",
              "      const length = Math.min(fileData.byteLength - position, MAX_PAYLOAD_SIZE);\n",
              "      const chunk = new Uint8Array(fileData, position, length);\n",
              "      position += length;\n",
              "\n",
              "      const base64 = btoa(String.fromCharCode.apply(null, chunk));\n",
              "      yield {\n",
              "        response: {\n",
              "          action: 'append',\n",
              "          file: file.name,\n",
              "          data: base64,\n",
              "        },\n",
              "      };\n",
              "\n",
              "      let percentDone = fileData.byteLength === 0 ?\n",
              "          100 :\n",
              "          Math.round((position / fileData.byteLength) * 100);\n",
              "      percent.textContent = `${percentDone}% done`;\n",
              "\n",
              "    } while (position < fileData.byteLength);\n",
              "  }\n",
              "\n",
              "  // All done.\n",
              "  yield {\n",
              "    response: {\n",
              "      action: 'complete',\n",
              "    }\n",
              "  };\n",
              "}\n",
              "\n",
              "scope.google = scope.google || {};\n",
              "scope.google.colab = scope.google.colab || {};\n",
              "scope.google.colab._files = {\n",
              "  _uploadFiles,\n",
              "  _uploadFilesContinue,\n",
              "};\n",
              "})(self);\n",
              "</script> "
            ]
          },
          "metadata": {}
        },
        {
          "output_type": "stream",
          "name": "stdout",
          "text": [
            "Saving tmdb_5000_movies.csv to tmdb_5000_movies.csv\n"
          ]
        }
      ]
    },
    {
      "cell_type": "markdown",
      "source": [
        "Load and preprocess data"
      ],
      "metadata": {
        "id": "zdAfwFcXNTZg"
      },
      "id": "zdAfwFcXNTZg"
    },
    {
      "cell_type": "code",
      "source": [
        "def load_data():\n",
        "    # Load the TMDB 5000 movies dataset\n",
        "    df = pd.read_csv('tmdb_5000_movies.csv')\n",
        "\n",
        "    # Parse the 'genres' and 'keywords' columns which are in stringified list of dicts\n",
        "    def parse_features(x):\n",
        "        try:\n",
        "            return [i['name'] for i in ast.literal_eval(x)]\n",
        "        except:\n",
        "            return []\n",
        "\n",
        "    df['genres'] = df['genres'].apply(parse_features)\n",
        "    df['keywords'] = df['keywords'].apply(parse_features)\n",
        "\n",
        "    # Fill NaN in 'overview' with empty string\n",
        "    df['overview'] = df['overview'].fillna('')\n",
        "\n",
        "    # Combine relevant features into a single string (metadata soup)\n",
        "    def create_soup(row):\n",
        "        return ' '.join(row['genres']) + ' ' + ' '.join(row['keywords']) + ' ' + row['overview']\n",
        "\n",
        "    df['soup'] = df.apply(create_soup, axis=1)\n",
        "\n",
        "    return df"
      ],
      "metadata": {
        "id": "G1ueHL1EIvDO"
      },
      "id": "G1ueHL1EIvDO",
      "execution_count": 3,
      "outputs": []
    },
    {
      "cell_type": "markdown",
      "source": [
        "Compute TF-IDF matrix"
      ],
      "metadata": {
        "id": "816QwM4kNbH2"
      },
      "id": "816QwM4kNbH2"
    },
    {
      "cell_type": "code",
      "source": [
        "def compute_tfidf_matrix(df):\n",
        "    tfidf = TfidfVectorizer(stop_words='english')\n",
        "    tfidf_matrix = tfidf.fit_transform(df['soup'])\n",
        "    return tfidf_matrix"
      ],
      "metadata": {
        "id": "egQO7YWdIuWe"
      },
      "id": "egQO7YWdIuWe",
      "execution_count": 4,
      "outputs": []
    },
    {
      "cell_type": "markdown",
      "source": [
        "Compute Cosine Similarity matrix"
      ],
      "metadata": {
        "id": "RY7JAmrkNjeI"
      },
      "id": "RY7JAmrkNjeI"
    },
    {
      "cell_type": "code",
      "source": [
        "def compute_similarity_matrix(tfidf_matrix):\n",
        "    return cosine_similarity(tfidf_matrix, tfidf_matrix)"
      ],
      "metadata": {
        "id": "Rkfj5OxmIuNQ"
      },
      "id": "Rkfj5OxmIuNQ",
      "execution_count": 5,
      "outputs": []
    },
    {
      "cell_type": "markdown",
      "source": [
        "Input the movie name and get recommendations"
      ],
      "metadata": {
        "id": "SCasPIe4Nuhn"
      },
      "id": "SCasPIe4Nuhn"
    },
    {
      "cell_type": "code",
      "source": [
        "def get_recommendations(title, df, similarity_matrix, top_n=10, include_input=True):\n",
        "    df['title_lower'] = df['title'].str.lower()\n",
        "    title = title.lower()\n",
        "\n",
        "    if title not in df['title_lower'].values:\n",
        "        print(f\"Movie '{title}' not found in the dataset.\")\n",
        "        return []\n",
        "\n",
        "    idx = df[df['title_lower'] == title].index[0]\n",
        "    sim_scores = list(enumerate(similarity_matrix[idx]))\n",
        "    sim_scores = sorted(sim_scores, key=lambda x: x[1], reverse=True)\n",
        "\n",
        "    # whether to include the movie you input or not when showing the recommendation, you can adjust the value of include_input variable on function parameter\n",
        "    if include_input:\n",
        "        sim_scores = sim_scores[:top_n]\n",
        "    else:\n",
        "        sim_scores = sim_scores[1:top_n+1]\n",
        "\n",
        "    recommended_titles = [df.iloc[i[0]]['title'] for i in sim_scores]\n",
        "    return recommended_titles\n",
        "\n",
        "def main():\n",
        "    df = load_data()\n",
        "    tfidf_matrix = compute_tfidf_matrix(df)\n",
        "    similarity_matrix = compute_similarity_matrix(tfidf_matrix)\n",
        "\n",
        "    movie_title = input(\"Enter a movie title: \")\n",
        "    recommendations = get_recommendations(movie_title, df, similarity_matrix)\n",
        "\n",
        "    if recommendations:\n",
        "        print(f\"\\nTop recommendations for '{movie_title}':\")\n",
        "        for i, rec in enumerate(recommendations, 1):\n",
        "            print(f\"{i}. {rec}\")\n",
        "\n",
        "if __name__ == \"__main__\":\n",
        "    main()"
      ],
      "metadata": {
        "colab": {
          "base_uri": "https://localhost:8080/"
        },
        "id": "p-x5SoZXIthW",
        "outputId": "a082bd8e-4435-45bd-a94c-e7dd014c11ee"
      },
      "id": "p-x5SoZXIthW",
      "execution_count": 6,
      "outputs": [
        {
          "output_type": "stream",
          "name": "stdout",
          "text": [
            "Enter a movie title: Tangled\n",
            "\n",
            "Top recommendations for 'Tangled':\n",
            "1. Tangled\n",
            "2. Into the Woods\n",
            "3. Out of Inferno\n",
            "4. Enchanted\n",
            "5. Ella Enchanted\n",
            "6. Shrek 2\n",
            "7. The NeverEnding Story\n",
            "8. Happily N'Ever After\n",
            "9. The Horse Whisperer\n",
            "10. In the Name of the King: A Dungeon Siege Tale\n"
          ]
        }
      ]
    },
    {
      "cell_type": "markdown",
      "id": "51a74443",
      "metadata": {
        "id": "51a74443"
      },
      "source": [
        "## Collaborative filtering\n",
        "Data: https://grouplens.org/datasets/movielens/latest/"
      ]
    },
    {
      "cell_type": "code",
      "execution_count": 7,
      "id": "77cfabdd",
      "metadata": {
        "id": "77cfabdd"
      },
      "outputs": [],
      "source": [
        "import pandas as pd\n",
        "import numpy as np\n",
        "from zipfile import ZipFile\n",
        "import tensorflow as tf\n",
        "from tensorflow import keras\n",
        "from tensorflow.keras import layers\n",
        "from pathlib import Path\n",
        "import matplotlib.pyplot as plt"
      ]
    },
    {
      "cell_type": "markdown",
      "id": "0f470249",
      "metadata": {
        "id": "0f470249"
      },
      "source": [
        "Load the data"
      ]
    },
    {
      "cell_type": "code",
      "execution_count": 8,
      "id": "9e6bb9c5",
      "metadata": {
        "colab": {
          "base_uri": "https://localhost:8080/"
        },
        "id": "9e6bb9c5",
        "outputId": "cc850b82-69d9-4631-ce5d-ad41ac17e412"
      },
      "outputs": [
        {
          "output_type": "stream",
          "name": "stdout",
          "text": [
            "Downloading data from http://files.grouplens.org/datasets/movielens/ml-latest-small.zip\n",
            "\u001b[1m978202/978202\u001b[0m \u001b[32m━━━━━━━━━━━━━━━━━━━━\u001b[0m\u001b[37m\u001b[0m \u001b[1m0s\u001b[0m 0us/step\n",
            "Extracting all the files now...\n",
            "Done!\n"
          ]
        }
      ],
      "source": [
        "# Download the actual data from http://files.grouplens.org/datasets/movielens/ml-latest-small.zip\"\n",
        "# Use the ratings.csv file\n",
        "movielens_data_file_url = (\n",
        "    \"http://files.grouplens.org/datasets/movielens/ml-latest-small.zip\"\n",
        ")\n",
        "movielens_zipped_file = keras.utils.get_file(\n",
        "    \"ml-latest-small.zip\", movielens_data_file_url, extract=False\n",
        ")\n",
        "keras_datasets_path = Path(movielens_zipped_file).parents[0]\n",
        "movielens_dir = keras_datasets_path / \"ml-latest-small\"\n",
        "\n",
        "# Only extract the data the first time the script is run.\n",
        "if not movielens_dir.exists():\n",
        "    with ZipFile(movielens_zipped_file, \"r\") as zip:\n",
        "        # Extract files\n",
        "        print(\"Extracting all the files now...\")\n",
        "        zip.extractall(path=keras_datasets_path)\n",
        "        print(\"Done!\")\n",
        "\n",
        "ratings_file = movielens_dir / \"ratings.csv\"\n",
        "df = pd.read_csv(ratings_file)"
      ]
    },
    {
      "cell_type": "markdown",
      "id": "86623cc2",
      "metadata": {
        "id": "86623cc2"
      },
      "source": [
        "Perform preprocessing to encode users and movies as integer indices"
      ]
    },
    {
      "cell_type": "code",
      "execution_count": 9,
      "id": "7f805558",
      "metadata": {
        "colab": {
          "base_uri": "https://localhost:8080/"
        },
        "id": "7f805558",
        "outputId": "a6971d02-effb-4144-cca8-af2ccb69bd70"
      },
      "outputs": [
        {
          "output_type": "stream",
          "name": "stdout",
          "text": [
            "Number of users: 610, Number of Movies: 9724, Min rating: 0.5, Max rating: 5.0\n"
          ]
        }
      ],
      "source": [
        "user_ids = df[\"userId\"].unique().tolist()\n",
        "user2user_encoded = {x: i for i, x in enumerate(user_ids)}\n",
        "userencoded2user = {i: x for i, x in enumerate(user_ids)}\n",
        "movie_ids = df[\"movieId\"].unique().tolist()\n",
        "movie2movie_encoded = {x: i for i, x in enumerate(movie_ids)}\n",
        "movie_encoded2movie = {i: x for i, x in enumerate(movie_ids)}\n",
        "df[\"user\"] = df[\"userId\"].map(user2user_encoded)\n",
        "df[\"movie\"] = df[\"movieId\"].map(movie2movie_encoded)\n",
        "\n",
        "num_users = len(user2user_encoded)\n",
        "num_movies = len(movie_encoded2movie)\n",
        "df[\"rating\"] = df[\"rating\"].values.astype(np.float32)\n",
        "# min and max ratings will be used to normalize the ratings later\n",
        "min_rating = min(df[\"rating\"])\n",
        "max_rating = max(df[\"rating\"])\n",
        "\n",
        "print(\n",
        "    \"Number of users: {}, Number of Movies: {}, Min rating: {}, Max rating: {}\".format(\n",
        "        num_users, num_movies, min_rating, max_rating\n",
        "    )\n",
        ")"
      ]
    },
    {
      "cell_type": "markdown",
      "id": "e3803774",
      "metadata": {
        "id": "e3803774"
      },
      "source": [
        "Prepare training and validation data"
      ]
    },
    {
      "cell_type": "code",
      "execution_count": 10,
      "id": "46bd5bb7",
      "metadata": {
        "id": "46bd5bb7"
      },
      "outputs": [],
      "source": [
        "df = df.sample(frac=1, random_state=42)\n",
        "x = df[[\"user\", \"movie\"]].values\n",
        "# Normalize the targets between 0 and 1. Makes it easy to train.\n",
        "y = df[\"rating\"].apply(lambda x: (x - min_rating) / (max_rating - min_rating)).values\n",
        "# Assuming training on 90% of the data and validating on 10%.\n",
        "train_indices = int(0.9 * df.shape[0])\n",
        "x_train, x_val, y_train, y_val = (\n",
        "    x[:train_indices],\n",
        "    x[train_indices:],\n",
        "    y[:train_indices],\n",
        "    y[train_indices:],\n",
        ")"
      ]
    },
    {
      "cell_type": "markdown",
      "id": "9bad5721",
      "metadata": {
        "id": "9bad5721"
      },
      "source": [
        "Create the model"
      ]
    },
    {
      "cell_type": "code",
      "execution_count": 12,
      "id": "39c5f6cc",
      "metadata": {
        "id": "39c5f6cc"
      },
      "outputs": [],
      "source": [
        "EMBEDDING_SIZE = 50\n",
        "\n",
        "\n",
        "class RecommenderNet(keras.Model):\n",
        "    def __init__(self, num_users, num_movies, embedding_size, **kwargs):\n",
        "        super(RecommenderNet, self).__init__(**kwargs)\n",
        "        self.num_users = num_users\n",
        "        self.num_movies = num_movies\n",
        "        self.embedding_size = embedding_size\n",
        "        self.user_embedding = layers.Embedding(\n",
        "            num_users,\n",
        "            embedding_size,\n",
        "            embeddings_initializer=\"he_normal\",\n",
        "            embeddings_regularizer=keras.regularizers.l2(1e-6),\n",
        "        )\n",
        "        self.user_bias = layers.Embedding(num_users, 1)\n",
        "        self.movie_embedding = layers.Embedding(\n",
        "            num_movies,\n",
        "            embedding_size,\n",
        "            embeddings_initializer=\"he_normal\",\n",
        "            embeddings_regularizer=keras.regularizers.l2(1e-6),\n",
        "        )\n",
        "        self.movie_bias = layers.Embedding(num_movies, 1)\n",
        "\n",
        "    def call(self, inputs):\n",
        "        user_vector = self.user_embedding(inputs[:, 0])\n",
        "        user_bias = self.user_bias(inputs[:, 0])\n",
        "        movie_vector = self.movie_embedding(inputs[:, 1])\n",
        "        movie_bias = self.movie_bias(inputs[:, 1])\n",
        "        dot_user_movie = tf.tensordot(user_vector, movie_vector, 2)\n",
        "        # Add all the components (including bias)\n",
        "        x = dot_user_movie + user_bias + movie_bias\n",
        "        # The sigmoid activation forces the rating to between 0 and 1\n",
        "        return tf.nn.sigmoid(x)\n",
        "\n",
        "\n",
        "model = RecommenderNet(num_users, num_movies, EMBEDDING_SIZE)\n",
        "model.compile(\n",
        "    loss=tf.keras.losses.BinaryCrossentropy(), optimizer=keras.optimizers.Adam(learning_rate=0.001)\n",
        ")"
      ]
    },
    {
      "cell_type": "markdown",
      "id": "a056b24d",
      "metadata": {
        "id": "a056b24d"
      },
      "source": [
        "Train the model based on the data split"
      ]
    },
    {
      "cell_type": "code",
      "execution_count": 13,
      "id": "697d542b",
      "metadata": {
        "colab": {
          "base_uri": "https://localhost:8080/"
        },
        "id": "697d542b",
        "outputId": "748e36a1-8d7a-4d0f-c703-e53170c6b63b"
      },
      "outputs": [
        {
          "output_type": "stream",
          "name": "stdout",
          "text": [
            "Epoch 1/5\n",
            "\u001b[1m1418/1418\u001b[0m \u001b[32m━━━━━━━━━━━━━━━━━━━━\u001b[0m\u001b[37m\u001b[0m \u001b[1m15s\u001b[0m 9ms/step - loss: 0.6589 - val_loss: 0.6202\n",
            "Epoch 2/5\n",
            "\u001b[1m1418/1418\u001b[0m \u001b[32m━━━━━━━━━━━━━━━━━━━━\u001b[0m\u001b[37m\u001b[0m \u001b[1m19s\u001b[0m 8ms/step - loss: 0.6161 - val_loss: 0.6184\n",
            "Epoch 3/5\n",
            "\u001b[1m1418/1418\u001b[0m \u001b[32m━━━━━━━━━━━━━━━━━━━━\u001b[0m\u001b[37m\u001b[0m \u001b[1m21s\u001b[0m 9ms/step - loss: 0.6088 - val_loss: 0.6147\n",
            "Epoch 4/5\n",
            "\u001b[1m1418/1418\u001b[0m \u001b[32m━━━━━━━━━━━━━━━━━━━━\u001b[0m\u001b[37m\u001b[0m \u001b[1m21s\u001b[0m 9ms/step - loss: 0.6071 - val_loss: 0.6135\n",
            "Epoch 5/5\n",
            "\u001b[1m1418/1418\u001b[0m \u001b[32m━━━━━━━━━━━━━━━━━━━━\u001b[0m\u001b[37m\u001b[0m \u001b[1m12s\u001b[0m 8ms/step - loss: 0.6078 - val_loss: 0.6124\n"
          ]
        }
      ],
      "source": [
        "history = model.fit(\n",
        "    x=x_train,\n",
        "    y=y_train,\n",
        "    batch_size=64,\n",
        "    epochs=5,\n",
        "    verbose=1,\n",
        "    validation_data=(x_val, y_val),\n",
        ")"
      ]
    },
    {
      "cell_type": "markdown",
      "id": "05c39ef8",
      "metadata": {
        "id": "05c39ef8"
      },
      "source": [
        "Plot training and validation loss"
      ]
    },
    {
      "cell_type": "code",
      "execution_count": 14,
      "id": "4d4136c2",
      "metadata": {
        "colab": {
          "base_uri": "https://localhost:8080/",
          "height": 472
        },
        "id": "4d4136c2",
        "outputId": "d65783a4-324c-4a7d-e64d-8d08d89665b6"
      },
      "outputs": [
        {
          "output_type": "display_data",
          "data": {
            "text/plain": [
              "<Figure size 640x480 with 1 Axes>"
            ],
            "image/png": "[encoded data removed]"
          },
          "metadata": {}
        }
      ],
      "source": [
        "plt.plot(history.history[\"loss\"])\n",
        "plt.plot(history.history[\"val_loss\"])\n",
        "plt.title(\"model loss\")\n",
        "plt.ylabel(\"loss\")\n",
        "plt.xlabel(\"epoch\")\n",
        "plt.legend([\"train\", \"test\"], loc=\"upper left\")\n",
        "plt.show()"
      ]
    },
    {
      "cell_type": "markdown",
      "id": "ef886ac3",
      "metadata": {
        "id": "ef886ac3"
      },
      "source": [
        "Show top 10 movie recommendations to a user"
      ]
    },
    {
      "cell_type": "code",
      "execution_count": 15,
      "id": "b9f70c9d",
      "metadata": {
        "colab": {
          "base_uri": "https://localhost:8080/"
        },
        "id": "b9f70c9d",
        "outputId": "eb609d52-fcd6-4f16-9a3e-23ec6d335101"
      },
      "outputs": [
        {
          "output_type": "stream",
          "name": "stdout",
          "text": [
            "\u001b[1m301/301\u001b[0m \u001b[32m━━━━━━━━━━━━━━━━━━━━\u001b[0m\u001b[37m\u001b[0m \u001b[1m1s\u001b[0m 2ms/step\n",
            "Showing recommendations for user: 58\n",
            "====================================\n",
            "Movies with high ratings from user\n",
            "--------------------------------\n",
            "Twelve Monkeys (a.k.a. 12 Monkeys) (1995) : Mystery|Sci-Fi|Thriller\n",
            "Muriel's Wedding (1994) : Comedy\n",
            "Schindler's List (1993) : Drama|War\n",
            "Searching for Bobby Fischer (1993) : Drama\n",
            "Truth About Cats & Dogs, The (1996) : Comedy|Romance\n",
            "--------------------------------\n",
            "Top 10 movie recommendations\n",
            "--------------------------------\n",
            "Star Wars: Episode IV - A New Hope (1977) : Action|Adventure|Sci-Fi\n",
            "Godfather, The (1972) : Crime|Drama\n",
            "Star Wars: Episode V - The Empire Strikes Back (1980) : Action|Adventure|Sci-Fi\n",
            "Princess Bride, The (1987) : Action|Adventure|Comedy|Fantasy|Romance\n",
            "Raiders of the Lost Ark (Indiana Jones and the Raiders of the Lost Ark) (1981) : Action|Adventure\n",
            "Lawrence of Arabia (1962) : Adventure|Drama|War\n",
            "Apocalypse Now (1979) : Action|Drama|War\n",
            "Goodfellas (1990) : Crime|Drama\n",
            "Godfather: Part II, The (1974) : Crime|Drama\n",
            "Boondock Saints, The (2000) : Action|Crime|Drama|Thriller\n"
          ]
        }
      ],
      "source": [
        "movie_df = pd.read_csv(movielens_dir / \"movies.csv\")\n",
        "\n",
        "# Get a user and see the top recommendations\n",
        "user_id = df.userId.sample(1).iloc[0]\n",
        "movies_watched_by_user = df[df.userId == user_id]\n",
        "movies_not_watched = movie_df[\n",
        "    ~movie_df[\"movieId\"].isin(movies_watched_by_user.movieId.values)\n",
        "][\"movieId\"]\n",
        "movies_not_watched = list(\n",
        "    set(movies_not_watched).intersection(set(movie2movie_encoded.keys()))\n",
        ")\n",
        "movies_not_watched = [[movie2movie_encoded.get(x)] for x in movies_not_watched]\n",
        "user_encoder = user2user_encoded.get(user_id)\n",
        "user_movie_array = np.hstack(\n",
        "    ([[user_encoder]] * len(movies_not_watched), movies_not_watched)\n",
        ")\n",
        "ratings = model.predict(user_movie_array).flatten()\n",
        "top_ratings_indices = ratings.argsort()[-10:][::-1]\n",
        "recommended_movie_ids = [\n",
        "    movie_encoded2movie.get(movies_not_watched[x][0]) for x in top_ratings_indices\n",
        "]\n",
        "\n",
        "print(\"Showing recommendations for user: {}\".format(user_id))\n",
        "print(\"====\" * 9)\n",
        "print(\"Movies with high ratings from user\")\n",
        "print(\"----\" * 8)\n",
        "top_movies_user = (\n",
        "    movies_watched_by_user.sort_values(by=\"rating\", ascending=False)\n",
        "    .head(5)\n",
        "    .movieId.values\n",
        ")\n",
        "movie_df_rows = movie_df[movie_df[\"movieId\"].isin(top_movies_user)]\n",
        "for row in movie_df_rows.itertuples():\n",
        "    print(row.title, \":\", row.genres)\n",
        "\n",
        "print(\"----\" * 8)\n",
        "print(\"Top 10 movie recommendations\")\n",
        "print(\"----\" * 8)\n",
        "recommended_movies = movie_df[movie_df[\"movieId\"].isin(recommended_movie_ids)]\n",
        "for row in recommended_movies.itertuples():\n",
        "    print(row.title, \":\", row.genres)"
      ]
    }
  ],
  "metadata": {
    "kernelspec": {
      "display_name": "Python 3 (ipykernel)",
      "language": "python",
      "name": "python3"
    },
    "language_info": {
      "codemirror_mode": {
        "name": "ipython",
        "version": 3
      },
      "file_extension": ".py",
      "mimetype": "text/x-python",
      "name": "python",
      "nbconvert_exporter": "python",
      "pygments_lexer": "ipython3",
      "version": "3.7.13"
    },
    "colab": {
      "provenance": [],
      "toc_visible": true
    }
  },
  "nbformat": 4,
  "nbformat_minor": 5
}